{
 "cells": [
  {
   "cell_type": "code",
   "execution_count": 162,
   "id": "d8649a90",
   "metadata": {},
   "outputs": [],
   "source": [
    "from selenium import webdriver"
   ]
  },
  {
   "cell_type": "code",
   "execution_count": 163,
   "id": "aa65204f",
   "metadata": {},
   "outputs": [],
   "source": [
    "browser = webdriver.Chrome(executable_path='/usr/bin/chromedriver')"
   ]
  },
  {
   "cell_type": "code",
   "execution_count": 164,
   "id": "1ad25fbf",
   "metadata": {},
   "outputs": [],
   "source": [
    "browser.get(\"https://codechef.com\")"
   ]
  },
  {
   "cell_type": "code",
   "execution_count": 165,
   "id": "5bbff3d8",
   "metadata": {},
   "outputs": [],
   "source": [
    "username_element = browser.find_element_by_id(\"edit-name\")"
   ]
  },
  {
   "cell_type": "code",
   "execution_count": 166,
   "id": "3d02c464",
   "metadata": {},
   "outputs": [],
   "source": [
    "username_element.send_keys(\"rudrakshi99\")"
   ]
  },
  {
   "cell_type": "code",
   "execution_count": 167,
   "id": "3e522594",
   "metadata": {},
   "outputs": [],
   "source": [
    "password_element = browser.find_element_by_id(\"edit-pass\")"
   ]
  },
  {
   "cell_type": "code",
   "execution_count": 168,
   "id": "e690e5df",
   "metadata": {},
   "outputs": [],
   "source": [
    "from getpass import getpass"
   ]
  },
  {
   "cell_type": "code",
   "execution_count": 169,
   "id": "fd9283f2",
   "metadata": {
    "scrolled": true
   },
   "outputs": [
    {
     "name": "stdout",
     "output_type": "stream",
     "text": [
      "Enter password: ········\n"
     ]
    }
   ],
   "source": [
    "password_element.send_keys(getpass(\"Enter password: \"))"
   ]
  },
  {
   "cell_type": "code",
   "execution_count": 149,
   "id": "2806798d",
   "metadata": {},
   "outputs": [],
   "source": [
    "element = browser.find_element_by_id(\"edit-submit\")\n",
    "browser.execute_script(\"arguments[0].click();\", element)\n"
   ]
  },
  {
   "cell_type": "code",
   "execution_count": 140,
   "id": "2c56e888",
   "metadata": {},
   "outputs": [],
   "source": [
    "browser.get(\"https://www.codechef.com/submit/TEST\")"
   ]
  },
  {
   "cell_type": "code",
   "execution_count": 141,
   "id": "2de69bce",
   "metadata": {},
   "outputs": [],
   "source": [
    "element = browser.find_element_by_id(\"edit-submit\")\n",
    "browser.execute_script(\"arguments[0].click();\", element)\n"
   ]
  },
  {
   "cell_type": "code",
   "execution_count": 150,
   "id": "faf2658d",
   "metadata": {},
   "outputs": [],
   "source": [
    "browser.find_element_by_id(\"edit_area_toggle_checkbox_edit-program\").click()"
   ]
  },
  {
   "cell_type": "code",
   "execution_count": 156,
   "id": "2a2411ce",
   "metadata": {},
   "outputs": [],
   "source": [
    "with open(\"solution.cpp\", 'r') as f:\n",
    "    code = f.read()"
   ]
  },
  {
   "cell_type": "code",
   "execution_count": 157,
   "id": "74a7ac18",
   "metadata": {},
   "outputs": [
    {
     "name": "stdout",
     "output_type": "stream",
     "text": [
      "Element is visible? True\n"
     ]
    }
   ],
   "source": [
    "code_element = browser.find_element_by_xpath('//*[@id=\"edit-program\"]')\n",
    "print(\"Element is visible? \" + str(code_element.is_displayed()))\n"
   ]
  },
  {
   "cell_type": "code",
   "execution_count": 158,
   "id": "f96ead2e",
   "metadata": {},
   "outputs": [],
   "source": [
    "code_element.send_keys(code)"
   ]
  },
  {
   "cell_type": "code",
   "execution_count": 159,
   "id": "99d73f84",
   "metadata": {},
   "outputs": [],
   "source": [
    "browser.find_element_by_id(\"edit-submit\").click()"
   ]
  },
  {
   "cell_type": "code",
   "execution_count": null,
   "id": "7ce3eeee",
   "metadata": {},
   "outputs": [],
   "source": []
  }
 ],
 "metadata": {
  "kernelspec": {
   "display_name": "Python 3",
   "language": "python",
   "name": "python3"
  },
  "language_info": {
   "codemirror_mode": {
    "name": "ipython",
    "version": 3
   },
   "file_extension": ".py",
   "mimetype": "text/x-python",
   "name": "python",
   "nbconvert_exporter": "python",
   "pygments_lexer": "ipython3",
   "version": "3.8.10"
  }
 },
 "nbformat": 4,
 "nbformat_minor": 5
}
